{
  "nbformat": 4,
  "nbformat_minor": 0,
  "metadata": {
    "colab": {
      "provenance": []
    },
    "kernelspec": {
      "name": "python3",
      "display_name": "Python 3"
    },
    "language_info": {
      "name": "python"
    }
  },
  "cells": [
    {
      "cell_type": "markdown",
      "source": [
        "Theoretical Questions\n",
        "\n",
        "\n",
        "**1. What is a Decision Tree, and how does it work?**  \n",
        "A Decision Tree is a supervised machine learning algorithm used for classification and regression tasks. It works by recursively splitting the dataset into subsets based on feature values, forming a tree-like structure where each internal node represents a test on a feature, each branch represents the outcome, and each leaf node represents a class label (classification) or continuous value (regression).\n",
        "\n",
        "---\n",
        "\n",
        "**2. What are impurity measures in Decision Trees?**  \n",
        "Impurity measures quantify the disorder or uncertainty in a dataset. They help in selecting the best feature to split on at each node. Common impurity measures are **Gini Impurity** and **Entropy**.\n",
        "\n",
        "---\n",
        "\n",
        "**3. What is the mathematical formula for Gini Impurity?**  \n",
        "\\[\n",
        "Gini = 1 - \\sum_{i=1}^{n} p_i^2\n",
        "\\]  \n",
        "where \\(p_i\\) is the probability of class \\(i\\) in a node.\n",
        "\n",
        "---\n",
        "\n",
        "**4. What is the mathematical formula for Entropy?**  \n",
        "\\[\n",
        "Entropy = - \\sum_{i=1}^{n} p_i \\log_2(p_i)\n",
        "\\]  \n",
        "where \\(p_i\\) is the probability of class \\(i\\) in a node.\n",
        "\n",
        "---\n",
        "\n",
        "**5. What is Information Gain, and how is it used in Decision Trees?**  \n",
        "Information Gain is the reduction in entropy or impurity after a dataset is split on an attribute. It is used to determine the best feature to split the data at each node in the tree.  \n",
        "\\[\n",
        "Information\\ Gain = Entropy(parent) - \\sum_{i=1}^{k} \\frac{n_i}{n} \\times Entropy(child_i)\n",
        "\\]\n",
        "\n",
        "---\n",
        "\n",
        "**6. What is the difference between Gini Impurity and Entropy?**  \n",
        "- **Gini Impurity** is simpler and faster to compute and focuses on misclassification.  \n",
        "- **Entropy** involves logarithmic calculations and is based on information theory.  \n",
        "Both aim to measure node impurity but may lead to slightly different splits.\n",
        "\n",
        "---\n",
        "\n",
        "**7. What is the mathematical explanation behind Decision Trees?**  \n",
        "Decision Trees use a **greedy algorithm** that recursively partitions data based on feature values to minimize impurity. At each node, the feature and threshold that result in the highest **Information Gain** or lowest **Gini Impurity** are selected. The tree continues growing until stopping conditions (like depth or purity) are met.\n",
        "\n",
        "---\n",
        "\n",
        "**8. What is Pre-Pruning in Decision Trees?**  \n",
        "Pre-Pruning (early stopping) prevents the tree from growing too large by stopping the split early based on predefined conditions like maximum depth, minimum samples per leaf, or minimum impurity decrease.\n",
        "\n",
        "---\n",
        "\n",
        "**9. What is Post-Pruning in Decision Trees?**  \n",
        "Post-Pruning builds a full tree and then removes branches that do not contribute significantly to the model’s accuracy. This helps in reducing overfitting.\n",
        "\n",
        "---\n",
        "\n",
        "**10. What is the difference between Pre-Pruning and Post-Pruning?**  \n",
        "- **Pre-Pruning** stops the tree from growing during training.  \n",
        "- **Post-Pruning** allows the tree to grow fully, then prunes unnecessary branches.  \n",
        "Pre-pruning is faster; post-pruning is often more accurate but computationally expensive.\n",
        "\n",
        "---\n",
        "\n",
        "**11. What is a Decision Tree Regressor?**  \n",
        "A Decision Tree Regressor predicts continuous numerical values by splitting the dataset to minimize the variance within each split, rather than using class labels.\n",
        "\n",
        "---\n",
        "\n",
        "**12. What are the advantages and disadvantages of Decision Trees?**  \n",
        "**Advantages:**  \n",
        "- Easy to interpret and visualize  \n",
        "- Handles both numerical and categorical data  \n",
        "- No need for feature scaling  \n",
        "**Disadvantages:**  \n",
        "- Prone to overfitting  \n",
        "- Can be unstable with small changes in data  \n",
        "- Biased towards features with more levels\n",
        "\n",
        "---\n",
        "\n",
        "**13. How does a Decision Tree handle missing values?**  \n",
        "Some Decision Tree implementations can handle missing values by using surrogate splits or ignoring missing values during split calculation. In practice, preprocessing like imputation is often used.\n",
        "\n",
        "---\n",
        "\n",
        "**14. How does a Decision Tree handle categorical features?**  \n",
        "Categorical features can be handled by splitting based on each category or using encoding techniques (e.g., one-hot encoding). Some libraries like `scikit-learn` require categorical variables to be encoded numerically.\n",
        "\n",
        "---\n",
        "\n",
        "**15. What are some real-world applications of Decision Trees?**  \n",
        "- Medical diagnosis  \n",
        "- Credit risk assessment  \n",
        "- Fraud detection  \n",
        "- Customer segmentation  \n",
        "- Loan approval systems  \n",
        "- Marketing strategy planning"
      ],
      "metadata": {
        "id": "3qYzWvv83RLI"
      }
    },
    {
      "cell_type": "code",
      "source": [
        "# Practical Questions"
      ],
      "metadata": {
        "id": "kQgQoSNn3k-s"
      },
      "execution_count": 1,
      "outputs": []
    },
    {
      "cell_type": "code",
      "source": [
        "# 1. Write a Python program to train a Decision Tree Classifier on the Iris dataset and print the model accuracy\n",
        "\n",
        "from sklearn.datasets import load_iris\n",
        "from sklearn.tree import DecisionTreeClassifier\n",
        "from sklearn.model_selection import train_test_split\n",
        "from sklearn.metrics import accuracy_score\n",
        "\n",
        "iris = load_iris()\n",
        "X_train, X_test, y_train, y_test = train_test_split(iris.data, iris.target, test_size=0.3, random_state=42)\n",
        "clf = DecisionTreeClassifier()\n",
        "clf.fit(X_train, y_train)\n",
        "y_pred = clf.predict(X_test)\n",
        "print(\"Accuracy:\", accuracy_score(y_test, y_pred))\n"
      ],
      "metadata": {
        "colab": {
          "base_uri": "https://localhost:8080/"
        },
        "id": "1FRBfRcN4HFJ",
        "outputId": "ee4eb6e0-79d7-4c84-99ac-fc4b82a82817"
      },
      "execution_count": 2,
      "outputs": [
        {
          "output_type": "stream",
          "name": "stdout",
          "text": [
            "Accuracy: 1.0\n"
          ]
        }
      ]
    },
    {
      "cell_type": "code",
      "source": [
        "# 2. Write a Python program to train a Decision Tree Classifier using Gini Impurity as the criterion and print the feature importances\n",
        "\n",
        "clf_gini = DecisionTreeClassifier(criterion='gini')\n",
        "clf_gini.fit(X_train, y_train)\n",
        "print(\"Feature Importances:\", clf_gini.feature_importances_)\n"
      ],
      "metadata": {
        "colab": {
          "base_uri": "https://localhost:8080/"
        },
        "id": "UKYsxaFK4K6P",
        "outputId": "7feed510-9435-42c5-e6f8-1df2d675f134"
      },
      "execution_count": 3,
      "outputs": [
        {
          "output_type": "stream",
          "name": "stdout",
          "text": [
            "Feature Importances: [0.         0.01911002 0.55727376 0.42361622]\n"
          ]
        }
      ]
    },
    {
      "cell_type": "code",
      "source": [
        "# 3. Write a Python program to train a Decision Tree Classifier using Entropy as the splitting criterion and print the model accuracy\n",
        "\n",
        "clf_entropy = DecisionTreeClassifier(criterion='entropy')\n",
        "clf_entropy.fit(X_train, y_train)\n",
        "y_pred_entropy = clf_entropy.predict(X_test)\n",
        "print(\"Accuracy (Entropy):\", accuracy_score(y_test, y_pred_entropy))\n"
      ],
      "metadata": {
        "colab": {
          "base_uri": "https://localhost:8080/"
        },
        "id": "BoGyvS_e4RC6",
        "outputId": "a6478776-8442-4036-f400-1be0b3990155"
      },
      "execution_count": 4,
      "outputs": [
        {
          "output_type": "stream",
          "name": "stdout",
          "text": [
            "Accuracy (Entropy): 1.0\n"
          ]
        }
      ]
    },
    {
      "cell_type": "code",
      "source": [
        "# 4. Write a Python program to train a Decision Tree Regressor on a housing dataset and evaluate using Mean Squared Error (MSE)\n",
        "\n",
        "from sklearn.datasets import fetch_california_housing\n",
        "from sklearn.tree import DecisionTreeRegressor\n",
        "from sklearn.metrics import mean_squared_error\n",
        "\n",
        "housing = fetch_california_housing()\n",
        "X_train_h, X_test_h, y_train_h, y_test_h = train_test_split(housing.data, housing.target, test_size=0.3, random_state=42)\n",
        "regressor = DecisionTreeRegressor()\n",
        "regressor.fit(X_train_h, y_train_h)\n",
        "y_pred_h = regressor.predict(X_test_h)\n",
        "print(\"MSE:\", mean_squared_error(y_test_h, y_pred_h))\n"
      ],
      "metadata": {
        "colab": {
          "base_uri": "https://localhost:8080/"
        },
        "id": "U_FncwdO4XsX",
        "outputId": "fe406a9c-ed2f-4073-e362-b39eacb283f6"
      },
      "execution_count": 5,
      "outputs": [
        {
          "output_type": "stream",
          "name": "stdout",
          "text": [
            "MSE: 0.531000084632768\n"
          ]
        }
      ]
    },
    {
      "cell_type": "code",
      "source": [
        "# 5. Write a Python program to train a Decision Tree Classifier and visualize the tree using graphviz\n",
        "\n",
        "from sklearn.tree import export_graphviz\n",
        "import graphviz\n",
        "\n",
        "clf = DecisionTreeClassifier()\n",
        "clf.fit(X_train, y_train)\n",
        "dot_data = export_graphviz(clf, out_file=None, feature_names=iris.feature_names, class_names=iris.target_names, filled=True, rounded=True)\n",
        "graph = graphviz.Source(dot_data)\n",
        "graph.render(\"iris_tree\", format='png', cleanup=True)\n"
      ],
      "metadata": {
        "colab": {
          "base_uri": "https://localhost:8080/",
          "height": 35
        },
        "id": "4dYm3nTy4hPf",
        "outputId": "e887f2f0-89ca-4bfa-ddf7-1e7796958dff"
      },
      "execution_count": 6,
      "outputs": [
        {
          "output_type": "execute_result",
          "data": {
            "text/plain": [
              "'iris_tree.png'"
            ],
            "application/vnd.google.colaboratory.intrinsic+json": {
              "type": "string"
            }
          },
          "metadata": {},
          "execution_count": 6
        }
      ]
    },
    {
      "cell_type": "code",
      "source": [
        "# 6. Write a Python program to train a Decision Tree Classifier with a maximum depth of 3 and compare its accuracy with a fully grown tree\n",
        "\n",
        "clf_limited = DecisionTreeClassifier(max_depth=3)\n",
        "clf_limited.fit(X_train, y_train)\n",
        "y_pred_limited = clf_limited.predict(X_test)\n",
        "print(\"Accuracy (Max Depth 3):\", accuracy_score(y_test, y_pred_limited))\n",
        "\n",
        "clf_full = DecisionTreeClassifier()\n",
        "clf_full.fit(X_train, y_train)\n",
        "y_pred_full = clf_full.predict(X_test)\n",
        "print(\"Accuracy (Full Tree):\", accuracy_score(y_test, y_pred_full))\n"
      ],
      "metadata": {
        "colab": {
          "base_uri": "https://localhost:8080/"
        },
        "id": "TCd6g1N04pyM",
        "outputId": "0918bbc9-a1e1-48a5-b6db-07d768a5a90c"
      },
      "execution_count": 7,
      "outputs": [
        {
          "output_type": "stream",
          "name": "stdout",
          "text": [
            "Accuracy (Max Depth 3): 1.0\n",
            "Accuracy (Full Tree): 1.0\n"
          ]
        }
      ]
    },
    {
      "cell_type": "code",
      "source": [
        "# 7. Write a Python program to train a Decision Tree Classifier using min_samples_split=5 and compare its accuracy with a default tree\n",
        "\n",
        "clf_split_5 = DecisionTreeClassifier(min_samples_split=5)\n",
        "clf_split_5.fit(X_train, y_train)\n",
        "y_pred_split_5 = clf_split_5.predict(X_test)\n",
        "print(\"Accuracy (min_samples_split=5):\", accuracy_score(y_test, y_pred_split_5))\n",
        "\n",
        "clf_default = DecisionTreeClassifier()\n",
        "clf_default.fit(X_train, y_train)\n",
        "y_pred_default = clf_default.predict(X_test)\n",
        "print(\"Accuracy (Default Tree):\", accuracy_score(y_test, y_pred_default))\n"
      ],
      "metadata": {
        "colab": {
          "base_uri": "https://localhost:8080/"
        },
        "id": "EtsgGudl5V9T",
        "outputId": "a33aa518-439c-4d19-a3fb-4257e2446d46"
      },
      "execution_count": 8,
      "outputs": [
        {
          "output_type": "stream",
          "name": "stdout",
          "text": [
            "Accuracy (min_samples_split=5): 1.0\n",
            "Accuracy (Default Tree): 1.0\n"
          ]
        }
      ]
    },
    {
      "cell_type": "code",
      "source": [
        "# 8. Write a Python program to apply feature scaling before training a Decision Tree Classifier and compare its accuracy with unscaled data\n",
        "\n",
        "from sklearn.preprocessing import StandardScaler\n",
        "\n",
        "scaler = StandardScaler()\n",
        "X_scaled = scaler.fit_transform(iris.data)\n",
        "X_train_s, X_test_s, y_train_s, y_test_s = train_test_split(X_scaled, iris.target, test_size=0.3, random_state=42)\n",
        "\n",
        "clf_scaled = DecisionTreeClassifier()\n",
        "clf_scaled.fit(X_train_s, y_train_s)\n",
        "y_pred_scaled = clf_scaled.predict(X_test_s)\n",
        "print(\"Accuracy (Scaled):\", accuracy_score(y_test_s, y_pred_scaled))\n",
        "\n",
        "clf_unscaled = DecisionTreeClassifier()\n",
        "clf_unscaled.fit(X_train, y_train)\n",
        "y_pred_unscaled = clf_unscaled.predict(X_test)\n",
        "print(\"Accuracy (Unscaled):\", accuracy_score(y_test, y_pred_unscaled))\n"
      ],
      "metadata": {
        "colab": {
          "base_uri": "https://localhost:8080/"
        },
        "id": "YbuVskuV5bGd",
        "outputId": "161ad021-cc51-4387-94f4-88e0d8ab9dff"
      },
      "execution_count": 9,
      "outputs": [
        {
          "output_type": "stream",
          "name": "stdout",
          "text": [
            "Accuracy (Scaled): 1.0\n",
            "Accuracy (Unscaled): 1.0\n"
          ]
        }
      ]
    },
    {
      "cell_type": "code",
      "source": [
        "# 9. Write a Python program to train a Decision Tree Classifier using One-vs-Rest (OvR) strategy for multiclass classification\n",
        "\n",
        "from sklearn.multiclass import OneVsRestClassifier\n",
        "\n",
        "ovr_clf = OneVsRestClassifier(DecisionTreeClassifier())\n",
        "ovr_clf.fit(X_train, y_train)\n",
        "y_pred_ovr = ovr_clf.predict(X_test)\n",
        "print(\"Accuracy (OvR):\", accuracy_score(y_test, y_pred_ovr))\n"
      ],
      "metadata": {
        "colab": {
          "base_uri": "https://localhost:8080/"
        },
        "id": "8DKgIXaY5jME",
        "outputId": "5a9d455b-8784-46d3-826a-fb00545f8ff5"
      },
      "execution_count": 10,
      "outputs": [
        {
          "output_type": "stream",
          "name": "stdout",
          "text": [
            "Accuracy (OvR): 1.0\n"
          ]
        }
      ]
    },
    {
      "cell_type": "code",
      "source": [
        "# 10. Write a Python program to train a Decision Tree Classifier and display the feature importance scores\n",
        "\n",
        "clf = DecisionTreeClassifier()\n",
        "clf.fit(X_train, y_train)\n",
        "for name, importance in zip(iris.feature_names, clf.feature_importances_):\n",
        "    print(f\"{name}: {importance}\")\n"
      ],
      "metadata": {
        "colab": {
          "base_uri": "https://localhost:8080/"
        },
        "id": "z5A43CJa5rC9",
        "outputId": "c1f9d082-470f-492d-b7dd-7876c8e14b28"
      },
      "execution_count": 11,
      "outputs": [
        {
          "output_type": "stream",
          "name": "stdout",
          "text": [
            "sepal length (cm): 0.038220038220038215\n",
            "sepal width (cm): 0.0\n",
            "petal length (cm): 0.06846677356655183\n",
            "petal width (cm): 0.89331318821341\n"
          ]
        }
      ]
    },
    {
      "cell_type": "code",
      "source": [
        "# 11. Write a Python program to train a Decision Tree Regressor with max_depth=5 and compare its performance with an unrestricted tree\n",
        "\n",
        "reg_limited = DecisionTreeRegressor(max_depth=5)\n",
        "reg_limited.fit(X_train_h, y_train_h)\n",
        "y_pred_limited = reg_limited.predict(X_test_h)\n",
        "print(\"MSE (max_depth=5):\", mean_squared_error(y_test_h, y_pred_limited))\n",
        "\n",
        "reg_unlimited = DecisionTreeRegressor()\n",
        "reg_unlimited.fit(X_train_h, y_train_h)\n",
        "y_pred_unlimited = reg_unlimited.predict(X_test_h)\n",
        "print(\"MSE (Unrestricted):\", mean_squared_error(y_test_h, y_pred_unlimited))\n"
      ],
      "metadata": {
        "colab": {
          "base_uri": "https://localhost:8080/"
        },
        "id": "wnpWXrw95wXr",
        "outputId": "480a36d7-c1e1-44b5-a795-f822836880e2"
      },
      "execution_count": 12,
      "outputs": [
        {
          "output_type": "stream",
          "name": "stdout",
          "text": [
            "MSE (max_depth=5): 0.5210801561811792\n",
            "MSE (Unrestricted): 0.5331817450042958\n"
          ]
        }
      ]
    },
    {
      "cell_type": "code",
      "source": [
        "# 12. Write a Python program to train a Decision Tree Classifier, apply Cost Complexity Pruning (CCP), and visualize its effect on accuracy\n",
        "\n",
        "path = clf.cost_complexity_pruning_path(X_train, y_train)\n",
        "ccp_alphas = path.ccp_alphas\n",
        "\n",
        "accuracies = []\n",
        "for ccp_alpha in ccp_alphas:\n",
        "    clf_pruned = DecisionTreeClassifier(ccp_alpha=ccp_alpha)\n",
        "    clf_pruned.fit(X_train, y_train)\n",
        "    acc = clf_pruned.score(X_test, y_test)\n",
        "    accuracies.append(acc)\n",
        "\n",
        "import matplotlib.pyplot as plt\n",
        "\n",
        "plt.figure()\n",
        "plt.plot(ccp_alphas, accuracies, marker='o', drawstyle=\"steps-post\")\n",
        "plt.xlabel(\"CCP Alpha\")\n",
        "plt.ylabel(\"Accuracy\")\n",
        "plt.title(\"Effect of CCP on Accuracy\")\n",
        "plt.show()\n"
      ],
      "metadata": {
        "colab": {
          "base_uri": "https://localhost:8080/",
          "height": 472
        },
        "id": "dlBPUHWU6B6R",
        "outputId": "0b3d8d0d-b53d-49d5-8ae5-8ae951e38139"
      },
      "execution_count": 13,
      "outputs": [
        {
          "output_type": "display_data",
          "data": {
            "text/plain": [
              "<Figure size 640x480 with 1 Axes>"
            ],
            "image/png": "[encoded data removed]"
          },
          "metadata": {}
        }
      ]
    },
    {
      "cell_type": "code",
      "source": [
        "# 13. Write a Python program to train a Decision Tree Classifier and evaluate its performance using Precision, Recall, and F1-Score\n",
        "\n",
        "from sklearn.metrics import precision_score, recall_score, f1_score\n",
        "\n",
        "clf = DecisionTreeClassifier()\n",
        "clf.fit(X_train, y_train)\n",
        "y_pred = clf.predict(X_test)\n",
        "print(\"Precision:\", precision_score(y_test, y_pred, average='macro'))\n",
        "print(\"Recall:\", recall_score(y_test, y_pred, average='macro'))\n",
        "print(\"F1-Score:\", f1_score(y_test, y_pred, average='macro'))\n"
      ],
      "metadata": {
        "colab": {
          "base_uri": "https://localhost:8080/"
        },
        "id": "OxRFtbUT6FaM",
        "outputId": "2bc2480c-70ca-4a5a-be75-2a1e8eec3ace"
      },
      "execution_count": 14,
      "outputs": [
        {
          "output_type": "stream",
          "name": "stdout",
          "text": [
            "Precision: 1.0\n",
            "Recall: 1.0\n",
            "F1-Score: 1.0\n"
          ]
        }
      ]
    },
    {
      "cell_type": "code",
      "source": [
        "# 14. Write a Python program to train a Decision Tree Classifier and visualize the confusion matrix using seaborn\n",
        "\n",
        "from sklearn.metrics import confusion_matrix\n",
        "import seaborn as sns\n",
        "\n",
        "conf_matrix = confusion_matrix(y_test, y_pred)\n",
        "sns.heatmap(conf_matrix, annot=True, cmap=\"Blues\", xticklabels=iris.target_names, yticklabels=iris.target_names)\n",
        "plt.xlabel(\"Predicted\")\n",
        "plt.ylabel(\"True\")\n",
        "plt.title(\"Confusion Matrix\")\n",
        "plt.show()\n"
      ],
      "metadata": {
        "colab": {
          "base_uri": "https://localhost:8080/",
          "height": 472
        },
        "id": "J7J7rUVK6TcG",
        "outputId": "55381c84-dded-4140-bc09-404d0d63059a"
      },
      "execution_count": 15,
      "outputs": [
        {
          "output_type": "display_data",
          "data": {
            "text/plain": [
              "<Figure size 640x480 with 2 Axes>"
            ],
            "image/png": "[encoded data removed]"
          },
          "metadata": {}
        }
      ]
    },
    {
      "cell_type": "code",
      "source": [
        "# 15. Write a Python program to train a Decision Tree Classifier and use GridSearchCV to find the optimal values for max_depth and min_samples_split\n",
        "\n",
        "from sklearn.model_selection import GridSearchCV\n",
        "\n",
        "param_grid = {\n",
        "    'max_depth': [2, 3, 4, 5, None],\n",
        "    'min_samples_split': [2, 5, 10]\n",
        "}\n",
        "grid_search = GridSearchCV(DecisionTreeClassifier(), param_grid, cv=5)\n",
        "grid_search.fit(X_train, y_train)\n",
        "print(\"Best Parameters:\", grid_search.best_params_)\n",
        "print(\"Best Score:\", grid_search.best_score_)\n"
      ],
      "metadata": {
        "colab": {
          "base_uri": "https://localhost:8080/"
        },
        "id": "SVtzvtDF6Wje",
        "outputId": "bc47066a-b95d-48e2-ed82-254822a8eb80"
      },
      "execution_count": 16,
      "outputs": [
        {
          "output_type": "stream",
          "name": "stdout",
          "text": [
            "Best Parameters: {'max_depth': 4, 'min_samples_split': 10}\n",
            "Best Score: 0.9428571428571428\n"
          ]
        }
      ]
    }
  ]
}